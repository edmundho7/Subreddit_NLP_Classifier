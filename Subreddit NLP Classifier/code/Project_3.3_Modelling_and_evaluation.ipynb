{
 "cells": [
  {
   "cell_type": "markdown",
   "metadata": {},
   "source": [
    "<img src=\"http://imgur.com/1ZcRyrc.png\" style=\"float: left; margin: 20px; height: 55px\">  \n",
    "# Project 3: Reddit NLP Classification"
   ]
  },
  {
   "cell_type": "markdown",
   "metadata": {},
   "source": [
    "Project notebook organisation:<br>\n",
    "[1 - Data Collection & Gathering](./Project_3.1_Data_Collection.ipynb)<br>\n",
    "[2 - Data Cleaning & EDA](./Project_3.2_Data_Cleaning_and_EDA.ipynb)<br>\n",
    "**3 - Modelling and Evaluation** (current notebook)<br>"
   ]
  },
  {
   "cell_type": "markdown",
   "metadata": {},
   "source": [
    "## Part 3: Modelling & Evaluation"
   ]
  },
  {
   "cell_type": "code",
   "execution_count": 2,
   "metadata": {},
   "outputs": [],
   "source": [
    "# Import libraries\n",
    "import re\n",
    "import pandas as pd\n",
    "import numpy as np\n",
    "import seaborn as sns\n",
    "import matplotlib.pyplot as plt\n",
    "from matplotlib_venn import venn2, venn2_circles\n",
    "%matplotlib inline\n",
    "\n",
    "from nltk.corpus import stopwords\n",
    "from nltk.tokenize import RegexpTokenizer\n",
    "from nltk import WordNetLemmatizer\n",
    "from nltk.stem import PorterStemmer\n",
    "\n",
    "from sklearn.compose import ColumnTransformer\n",
    "from sklearn.ensemble import BaggingClassifier\n",
    "\n",
    "from sklearn.feature_extraction.text import CountVectorizer, TfidfVectorizer\n",
    "from sklearn.model_selection import train_test_split, cross_val_score, GridSearchCV, RandomizedSearchCV\n",
    "from sklearn.pipeline import Pipeline\n",
    "from sklearn.naive_bayes import MultinomialNB\n",
    "from sklearn.tree import DecisionTreeClassifier\n",
    "from sklearn.ensemble import RandomForestClassifier, GradientBoostingClassifier\n",
    "\n",
    "from sklearn.metrics import confusion_matrix, ConfusionMatrixDisplay, accuracy_score, roc_curve, RocCurveDisplay, plot_roc_curve, roc_auc_score, recall_score, precision_score, f1_score"
   ]
  },
  {
   "cell_type": "markdown",
   "metadata": {},
   "source": [
    "## Import data"
   ]
  },
  {
   "cell_type": "code",
   "execution_count": 4,
   "metadata": {},
   "outputs": [],
   "source": [
    "df_combined = pd.read_csv('../data/combined_cleaned.csv')"
   ]
  },
  {
   "cell_type": "code",
   "execution_count": null,
   "metadata": {},
   "outputs": [],
   "source": [
    "df_combined.subreddit.value_counts(normalize = True)"
   ]
  },
  {
   "cell_type": "code",
   "execution_count": null,
   "metadata": {},
   "outputs": [],
   "source": [
    "df_combined.head()"
   ]
  },
  {
   "cell_type": "markdown",
   "metadata": {},
   "source": [
    "## Perform Train, Test, split"
   ]
  },
  {
   "cell_type": "code",
   "execution_count": 5,
   "metadata": {},
   "outputs": [],
   "source": [
    "#Define X, y of unmodified, lemmatized and stemmed text\n",
    "X = df_combined['combined_text']\n",
    "X_lem = df_combined['lem_combined_text']\n",
    "X_stem = df_combined['stem_combined_text']\n",
    "\n",
    "y = df_combined['subreddit']"
   ]
  },
  {
   "cell_type": "code",
   "execution_count": 6,
   "metadata": {},
   "outputs": [],
   "source": [
    "#Perform train test split on Unmodified words\n",
    "X_train_main, X_test_main, y_train_main, y_test_main = train_test_split(X, y, test_size = 0.2, random_state = 42)"
   ]
  },
  {
   "cell_type": "code",
   "execution_count": 7,
   "metadata": {},
   "outputs": [],
   "source": [
    "#Perform train test split on Lemmatized words\n",
    "X_train_lem, X_test_lem, y_train_lem, y_test_lem = train_test_split(X_lem, y, test_size = 0.2, random_state = 42)"
   ]
  },
  {
   "cell_type": "code",
   "execution_count": 8,
   "metadata": {},
   "outputs": [],
   "source": [
    "#Perform train test split on Stemmed words\n",
    "X_train_stem, X_test_stem, y_train_stem, y_test_stem = train_test_split(X_stem, y, test_size = 0.2, random_state = 42)"
   ]
  },
  {
   "cell_type": "markdown",
   "metadata": {},
   "source": [
    "## Establish baseline accuracy for comparison to models ####"
   ]
  },
  {
   "cell_type": "code",
   "execution_count": 9,
   "metadata": {},
   "outputs": [
    {
     "data": {
      "text/plain": [
       "0    0.503929\n",
       "1    0.496071\n",
       "Name: subreddit, dtype: float64"
      ]
     },
     "execution_count": 9,
     "metadata": {},
     "output_type": "execute_result"
    }
   ],
   "source": [
    "y.value_counts(normalize = True)"
   ]
  },
  {
   "cell_type": "markdown",
   "metadata": {},
   "source": [
    "The baseline accuracy is about 50.3% as majority class ('subreddit' == 'r/wallstreetbets') comprise 50.3% of the data. Therefore, if we predict that all posts is from wallstreetbets, we would be correct 50.3% of the time"
   ]
  },
  {
   "cell_type": "markdown",
   "metadata": {},
   "source": [
    "## Define a function for Pipeline Models run and results ####"
   ]
  },
  {
   "cell_type": "code",
   "execution_count": 41,
   "metadata": {},
   "outputs": [],
   "source": [
    "common_words = ['stock', 'shares', 'like', 'company', 'one', 'market', 'im', 'time', 'would', 'price']\n",
    "#Add additional common stop words to the stopwords corpus\n",
    "stoplist = stopwords.words('english') + common_words"
   ]
  },
  {
   "cell_type": "code",
   "execution_count": 42,
   "metadata": {},
   "outputs": [],
   "source": [
    "def run_model_rs(pipeline, parameters, cv = 3, model_name = '', kind = ''):\n",
    "    gs = GridSearchCV(pipeline, parameters, cv = cv, n_jobs = -1, verbose = 1)\n",
    "\n",
    "    # Fit the Gridsearch to Training data (Unmodified, Lemmatized, Stemmed)\n",
    "    if kind == 'unmodified':\n",
    "        X_train = X_train_main\n",
    "        X_test = X_test_main\n",
    "        y_train = y_train_main\n",
    "        y_test = y_test_main\n",
    "\n",
    "    elif kind == 'lem':\n",
    "        X_train = X_train_lem\n",
    "        X_test = X_test_lem\n",
    "        y_train = y_train_lem\n",
    "        y_test = y_test_lem\n",
    "\n",
    "    elif kind == 'stem':\n",
    "        X_train = X_train_stem\n",
    "        X_test = X_test_stem\n",
    "        y_train = y_train_stem\n",
    "        y_test = y_test_stem\n",
    "\n",
    "    gs.fit(X_train, y_train)\n",
    "\n",
    "    # Print the best score found on training data\n",
    "    print('Best Score:', gs.best_score_)\n",
    "    # Print the best parameters found on training data\n",
    "    print('Best Parameters:', gs.best_params_)\n",
    "    # Use the best estimator that gave the highest score\n",
    "    gs = gs.best_estimator_\n",
    "    #Score model on Training data\n",
    "    print('Score on Training Data:', gs.score(X_train, y_train))\n",
    "    # Score model on Testing data\n",
    "    print('Score on Testing Data:', gs.score(X_test, y_test))\n",
    "    # Get predictions\n",
    "    y_pred = gs.predict(X_test)\n",
    "\n",
    "    # Confusion Matrix\n",
    "    cm = confusion_matrix(y_test,y_pred)\n",
    "    # Plot Confusion Matrix\n",
    "    disp = ConfusionMatrixDisplay(confusion_matrix=cm)\n",
    "    disp.plot(cmap='Blues')\n",
    "    plt.show()\n",
    "\n",
    "    # Save performance metrics value\n",
    "    tn, fp, fn, tp = confusion_matrix(y_test, y_pred).ravel()\n",
    "    # Print the different metrics\n",
    "    # Append metrics and scores to the dictionary\n",
    "    accuracy = round(accuracy_score(y_test, y_pred),3) # Accuracy \n",
    "    print('Accuracy:', accuracy)\n",
    "    precision = round(tp / (tp + fp),3) # Precision (Positive Predictive Value)\n",
    "    print('Precision:', precision)\n",
    "    recall = round(tp / (tp + fn),3) # Recall (Sensitivity, True Positive Rate)\n",
    "    print('Recall:', recall)\n",
    "    specificity = round(tn / (tn + fp),3) # Specificity (True Negative Rate)\n",
    "    f1 = round(2 * (precision * recall) / (precision + recall),3) #F1\n",
    "    print('F1:', f1)\n",
    "    roc_auc = round(roc_auc_score(y_test, y_pred),3) #ROC AUC\n",
    "    print('ROC AUC:', roc_auc)\n",
    "\n",
    "    train_score = round(gs.score(X_train, y_train),3)\n",
    "    test_score = round(gs.score(X_test, y_test),3)\n",
    "    generalisation = round((train_score - test_score)*100/train_score,3)\n",
    "    results[model_name] = [train_score, test_score, generalisation, accuracy, precision, recall, specificity, f1, roc_auc]"
   ]
  },
  {
   "cell_type": "markdown",
   "metadata": {},
   "source": [
    "## Set up Pipelines and Parameters for Gridsearch"
   ]
  },
  {
   "cell_type": "code",
   "execution_count": 43,
   "metadata": {},
   "outputs": [],
   "source": [
    "# CountVectorizer + Random Forest     \n",
    "pipe_cvec_rf = Pipeline([ ('cvec', CountVectorizer()),('rf', RandomForestClassifier())])\n",
    "\n",
    "# TfidfVectorizer + Random Forest (2.5)      \n",
    "pipe_tfidf_rf = Pipeline([ ('tfidf', TfidfVectorizer()),('rf', RandomForestClassifier())])  "
   ]
  },
  {
   "cell_type": "code",
   "execution_count": 44,
   "metadata": {},
   "outputs": [],
   "source": [
    "# CountVectorizer + Naive Bayes \n",
    "pipe_cvec_mnb = Pipeline([ ('cvec', CountVectorizer()),('mnb', MultinomialNB())])\n",
    "\n",
    "# TfidfVectorizer + Naive Bayes \n",
    "pipe_tfidf_mnb = Pipeline([ ('tfidf', TfidfVectorizer()),('mnb', MultinomialNB())]) "
   ]
  },
  {
   "cell_type": "code",
   "execution_count": 45,
   "metadata": {},
   "outputs": [],
   "source": [
    "# CountVectorizer + Gradient Boosting     \n",
    "pipe_cvec_gboost = Pipeline([ ('cvec', CountVectorizer()),('gboost', GradientBoostingClassifier())])\n",
    "\n",
    "# TfidfVectorizer + Gradient Boosting      \n",
    "pipe_tfidf_gboost = Pipeline([ ('tfidf', TfidfVectorizer()),('gboost', GradientBoostingClassifier())]) "
   ]
  },
  {
   "cell_type": "code",
   "execution_count": 46,
   "metadata": {},
   "outputs": [],
   "source": [
    "\n",
    "params_cvec_rf = {\n",
    "    'cvec__max_features': [100,200,300],\n",
    "    'cvec__min_df': [2,3],\n",
    "    'cvec__max_df': [.85,.9,.95],\n",
    "    'cvec__ngram_range': [(1,1), (1,2)],\n",
    "    'cvec__stop_words': [stoplist],\n",
    "    'rf__max_depth' : [3,5,7],\n",
    "    'rf__n_estimators': [100, 150, 200],\n",
    "    #'rf__class_weight' : ['balanced', {0:1,1:200}]\n",
    "    #'rf__max_features': [None, 3, 4]\n",
    "}\n",
    "\n",
    "params_tfidf_rf = {\n",
    "    'tfidf__max_features': [100,200,300],\n",
    "    'tfidf__min_df': [2,3],\n",
    "    'tfidf__max_df': [.85,.9,.95],\n",
    "    'tfidf__ngram_range': [(1,1), (1,2)],\n",
    "    'tfidf__stop_words': [stoplist],\n",
    "    'rf__max_depth' : [3,5,7],\n",
    "    'rf__n_estimators': [100, 150, 200],\n",
    "    #'rf__class_weight' : ['balanced', {0:1,1:200}]\n",
    "    #'rf__max_features': [None, 3, 4]\n",
    "}\n",
    "\n",
    "\n",
    "params_cvec_mnb = {\n",
    "    'cvec__max_features' : [100, 200, 500],\n",
    "    'cvec__min_df': [2,3],\n",
    "    'cvec__max_df': [.85,.9,.95],\n",
    "    'cvec__stop_words': [stoplist],\n",
    "    'cvec__ngram_range': [(1,1), (1,2)],\n",
    "    'mnb__alpha': [1, .9, .8],\n",
    "}\n",
    "\n",
    "params_tfidf_mnb = {\n",
    "    'tfidf__max_features' : [100, 200, 500],\n",
    "    'tfidf__min_df': [2,3],\n",
    "    'tfidf__max_df': [.85,.9,.95],\n",
    "    'tfidf__stop_words': [stoplist],\n",
    "    'tfidf__ngram_range': [(1,1), (1,2)],\n",
    "    'mnb__alpha': [1, .9, .8]\n",
    "}"
   ]
  },
  {
   "cell_type": "code",
   "execution_count": 47,
   "metadata": {},
   "outputs": [],
   "source": [
    "#Create a dictionary to house the different models score\n",
    "results = {}"
   ]
  },
  {
   "cell_type": "markdown",
   "metadata": {},
   "source": [
    "## Random Forest Model\n",
    "### CountVectorizer ####\n",
    "#### Unmodified text"
   ]
  },
  {
   "cell_type": "code",
   "execution_count": 48,
   "metadata": {},
   "outputs": [
    {
     "name": "stdout",
     "output_type": "stream",
     "text": [
      "Fitting 3 folds for each of 324 candidates, totalling 972 fits\n",
      "Best Score: 0.6971185330713818\n",
      "Best Parameters: {'cvec__max_df': 0.95, 'cvec__max_features': 300, 'cvec__min_df': 3, 'cvec__ngram_range': (1, 1), 'cvec__stop_words': ['i', 'me', 'my', 'myself', 'we', 'our', 'ours', 'ourselves', 'you', \"you're\", \"you've\", \"you'll\", \"you'd\", 'your', 'yours', 'yourself', 'yourselves', 'he', 'him', 'his', 'himself', 'she', \"she's\", 'her', 'hers', 'herself', 'it', \"it's\", 'its', 'itself', 'they', 'them', 'their', 'theirs', 'themselves', 'what', 'which', 'who', 'whom', 'this', 'that', \"that'll\", 'these', 'those', 'am', 'is', 'are', 'was', 'were', 'be', 'been', 'being', 'have', 'has', 'had', 'having', 'do', 'does', 'did', 'doing', 'a', 'an', 'the', 'and', 'but', 'if', 'or', 'because', 'as', 'until', 'while', 'of', 'at', 'by', 'for', 'with', 'about', 'against', 'between', 'into', 'through', 'during', 'before', 'after', 'above', 'below', 'to', 'from', 'up', 'down', 'in', 'out', 'on', 'off', 'over', 'under', 'again', 'further', 'then', 'once', 'here', 'there', 'when', 'where', 'why', 'how', 'all', 'any', 'both', 'each', 'few', 'more', 'most', 'other', 'some', 'such', 'no', 'nor', 'not', 'only', 'own', 'same', 'so', 'than', 'too', 'very', 's', 't', 'can', 'will', 'just', 'don', \"don't\", 'should', \"should've\", 'now', 'd', 'll', 'm', 'o', 're', 've', 'y', 'ain', 'aren', \"aren't\", 'couldn', \"couldn't\", 'didn', \"didn't\", 'doesn', \"doesn't\", 'hadn', \"hadn't\", 'hasn', \"hasn't\", 'haven', \"haven't\", 'isn', \"isn't\", 'ma', 'mightn', \"mightn't\", 'mustn', \"mustn't\", 'needn', \"needn't\", 'shan', \"shan't\", 'shouldn', \"shouldn't\", 'wasn', \"wasn't\", 'weren', \"weren't\", 'won', \"won't\", 'wouldn', \"wouldn't\", 'stock', 'shares', 'like', 'company', 'one', 'market', 'im', 'time', 'would', 'price'], 'rf__max_depth': 7, 'rf__n_estimators': 200}\n",
      "Score on Training Data: 0.7246234446627374\n",
      "Score on Testing Data: 0.6989528795811518\n"
     ]
    },
    {
     "data": {
      "image/png": "[encoded data removed]",
      "text/plain": [
       "<Figure size 432x288 with 2 Axes>"
      ]
     },
     "metadata": {
      "needs_background": "light"
     },
     "output_type": "display_data"
    },
    {
     "name": "stdout",
     "output_type": "stream",
     "text": [
      "Accuracy: 0.699\n",
      "Precision: 0.676\n",
      "Recall: 0.812\n",
      "F1: 0.738\n",
      "ROC AUC: 0.694\n"
     ]
    }
   ],
   "source": [
    "run_model_rs(pipe_cvec_rf, params_cvec_rf, kind = 'unmodified', model_name = 'Random Forest Count Vectorizer Unmodifed')"
   ]
  },
  {
   "cell_type": "markdown",
   "metadata": {},
   "source": [
    "##### Lemmatized text"
   ]
  },
  {
   "cell_type": "code",
   "execution_count": 50,
   "metadata": {},
   "outputs": [
    {
     "name": "stdout",
     "output_type": "stream",
     "text": [
      "Fitting 3 folds for each of 324 candidates, totalling 972 fits\n",
      "Best Score: 0.6863130320890635\n",
      "Best Parameters: {'cvec__max_df': 0.9, 'cvec__max_features': 300, 'cvec__min_df': 2, 'cvec__ngram_range': (1, 1), 'cvec__stop_words': ['i', 'me', 'my', 'myself', 'we', 'our', 'ours', 'ourselves', 'you', \"you're\", \"you've\", \"you'll\", \"you'd\", 'your', 'yours', 'yourself', 'yourselves', 'he', 'him', 'his', 'himself', 'she', \"she's\", 'her', 'hers', 'herself', 'it', \"it's\", 'its', 'itself', 'they', 'them', 'their', 'theirs', 'themselves', 'what', 'which', 'who', 'whom', 'this', 'that', \"that'll\", 'these', 'those', 'am', 'is', 'are', 'was', 'were', 'be', 'been', 'being', 'have', 'has', 'had', 'having', 'do', 'does', 'did', 'doing', 'a', 'an', 'the', 'and', 'but', 'if', 'or', 'because', 'as', 'until', 'while', 'of', 'at', 'by', 'for', 'with', 'about', 'against', 'between', 'into', 'through', 'during', 'before', 'after', 'above', 'below', 'to', 'from', 'up', 'down', 'in', 'out', 'on', 'off', 'over', 'under', 'again', 'further', 'then', 'once', 'here', 'there', 'when', 'where', 'why', 'how', 'all', 'any', 'both', 'each', 'few', 'more', 'most', 'other', 'some', 'such', 'no', 'nor', 'not', 'only', 'own', 'same', 'so', 'than', 'too', 'very', 's', 't', 'can', 'will', 'just', 'don', \"don't\", 'should', \"should've\", 'now', 'd', 'll', 'm', 'o', 're', 've', 'y', 'ain', 'aren', \"aren't\", 'couldn', \"couldn't\", 'didn', \"didn't\", 'doesn', \"doesn't\", 'hadn', \"hadn't\", 'hasn', \"hasn't\", 'haven', \"haven't\", 'isn', \"isn't\", 'ma', 'mightn', \"mightn't\", 'mustn', \"mustn't\", 'needn', \"needn't\", 'shan', \"shan't\", 'shouldn', \"shouldn't\", 'wasn', \"wasn't\", 'weren', \"weren't\", 'won', \"won't\", 'wouldn', \"wouldn't\", 'stock', 'shares', 'like', 'company', 'one', 'market', 'im', 'time', 'would', 'price'], 'rf__max_depth': 7, 'rf__n_estimators': 100}\n",
      "Score on Training Data: 0.7111984282907662\n",
      "Score on Testing Data: 0.6884816753926701\n"
     ]
    },
    {
     "data": {
      "image/png": "[encoded data removed]",
      "text/plain": [
       "<Figure size 432x288 with 2 Axes>"
      ]
     },
     "metadata": {
      "needs_background": "light"
     },
     "output_type": "display_data"
    },
    {
     "name": "stdout",
     "output_type": "stream",
     "text": [
      "Accuracy: 0.688\n",
      "Precision: 0.684\n",
      "Recall: 0.746\n",
      "F1: 0.714\n",
      "ROC AUC: 0.686\n"
     ]
    }
   ],
   "source": [
    "run_model_rs(pipe_cvec_rf, params_cvec_rf, kind = 'lem', model_name = 'Random Forest Count Vectorizer Lemmatized')"
   ]
  },
  {
   "cell_type": "markdown",
   "metadata": {},
   "source": [
    "##### Stemmed text"
   ]
  },
  {
   "cell_type": "code",
   "execution_count": 52,
   "metadata": {},
   "outputs": [
    {
     "name": "stdout",
     "output_type": "stream",
     "text": [
      "Fitting 3 folds for each of 324 candidates, totalling 972 fits\n",
      "Best Score: 0.6879502292075966\n",
      "Best Parameters: {'cvec__max_df': 0.9, 'cvec__max_features': 300, 'cvec__min_df': 3, 'cvec__ngram_range': (1, 1), 'cvec__stop_words': ['i', 'me', 'my', 'myself', 'we', 'our', 'ours', 'ourselves', 'you', \"you're\", \"you've\", \"you'll\", \"you'd\", 'your', 'yours', 'yourself', 'yourselves', 'he', 'him', 'his', 'himself', 'she', \"she's\", 'her', 'hers', 'herself', 'it', \"it's\", 'its', 'itself', 'they', 'them', 'their', 'theirs', 'themselves', 'what', 'which', 'who', 'whom', 'this', 'that', \"that'll\", 'these', 'those', 'am', 'is', 'are', 'was', 'were', 'be', 'been', 'being', 'have', 'has', 'had', 'having', 'do', 'does', 'did', 'doing', 'a', 'an', 'the', 'and', 'but', 'if', 'or', 'because', 'as', 'until', 'while', 'of', 'at', 'by', 'for', 'with', 'about', 'against', 'between', 'into', 'through', 'during', 'before', 'after', 'above', 'below', 'to', 'from', 'up', 'down', 'in', 'out', 'on', 'off', 'over', 'under', 'again', 'further', 'then', 'once', 'here', 'there', 'when', 'where', 'why', 'how', 'all', 'any', 'both', 'each', 'few', 'more', 'most', 'other', 'some', 'such', 'no', 'nor', 'not', 'only', 'own', 'same', 'so', 'than', 'too', 'very', 's', 't', 'can', 'will', 'just', 'don', \"don't\", 'should', \"should've\", 'now', 'd', 'll', 'm', 'o', 're', 've', 'y', 'ain', 'aren', \"aren't\", 'couldn', \"couldn't\", 'didn', \"didn't\", 'doesn', \"doesn't\", 'hadn', \"hadn't\", 'hasn', \"hasn't\", 'haven', \"haven't\", 'isn', \"isn't\", 'ma', 'mightn', \"mightn't\", 'mustn', \"mustn't\", 'needn', \"needn't\", 'shan', \"shan't\", 'shouldn', \"shouldn't\", 'wasn', \"wasn't\", 'weren', \"weren't\", 'won', \"won't\", 'wouldn', \"wouldn't\", 'stock', 'shares', 'like', 'company', 'one', 'market', 'im', 'time', 'would', 'price'], 'rf__max_depth': 7, 'rf__n_estimators': 150}\n",
      "Score on Training Data: 0.7236411263916176\n",
      "Score on Testing Data: 0.6845549738219895\n"
     ]
    },
    {
     "data": {
      "image/png": "[encoded data removed]",
      "text/plain": [
       "<Figure size 432x288 with 2 Axes>"
      ]
     },
     "metadata": {
      "needs_background": "light"
     },
     "output_type": "display_data"
    },
    {
     "name": "stdout",
     "output_type": "stream",
     "text": [
      "Accuracy: 0.685\n",
      "Precision: 0.67\n",
      "Recall: 0.779\n",
      "F1: 0.72\n",
      "ROC AUC: 0.68\n"
     ]
    }
   ],
   "source": [
    "run_model_rs(pipe_cvec_rf, params_cvec_rf, kind = 'stem', model_name = 'Random Forest Count Vectorizer Stemmed')"
   ]
  },
  {
   "cell_type": "markdown",
   "metadata": {},
   "source": [
    "### TfidfVectorizer ###\n",
    "#### Unmodified text"
   ]
  },
  {
   "cell_type": "code",
   "execution_count": 54,
   "metadata": {},
   "outputs": [
    {
     "name": "stdout",
     "output_type": "stream",
     "text": [
      "Fitting 3 folds for each of 324 candidates, totalling 972 fits\n",
      "Best Score: 0.7030124426981009\n",
      "Best Parameters: {'rf__max_depth': 7, 'rf__n_estimators': 200, 'tfidf__max_df': 0.85, 'tfidf__max_features': 300, 'tfidf__min_df': 3, 'tfidf__ngram_range': (1, 1), 'tfidf__stop_words': ['i', 'me', 'my', 'myself', 'we', 'our', 'ours', 'ourselves', 'you', \"you're\", \"you've\", \"you'll\", \"you'd\", 'your', 'yours', 'yourself', 'yourselves', 'he', 'him', 'his', 'himself', 'she', \"she's\", 'her', 'hers', 'herself', 'it', \"it's\", 'its', 'itself', 'they', 'them', 'their', 'theirs', 'themselves', 'what', 'which', 'who', 'whom', 'this', 'that', \"that'll\", 'these', 'those', 'am', 'is', 'are', 'was', 'were', 'be', 'been', 'being', 'have', 'has', 'had', 'having', 'do', 'does', 'did', 'doing', 'a', 'an', 'the', 'and', 'but', 'if', 'or', 'because', 'as', 'until', 'while', 'of', 'at', 'by', 'for', 'with', 'about', 'against', 'between', 'into', 'through', 'during', 'before', 'after', 'above', 'below', 'to', 'from', 'up', 'down', 'in', 'out', 'on', 'off', 'over', 'under', 'again', 'further', 'then', 'once', 'here', 'there', 'when', 'where', 'why', 'how', 'all', 'any', 'both', 'each', 'few', 'more', 'most', 'other', 'some', 'such', 'no', 'nor', 'not', 'only', 'own', 'same', 'so', 'than', 'too', 'very', 's', 't', 'can', 'will', 'just', 'don', \"don't\", 'should', \"should've\", 'now', 'd', 'll', 'm', 'o', 're', 've', 'y', 'ain', 'aren', \"aren't\", 'couldn', \"couldn't\", 'didn', \"didn't\", 'doesn', \"doesn't\", 'hadn', \"hadn't\", 'hasn', \"hasn't\", 'haven', \"haven't\", 'isn', \"isn't\", 'ma', 'mightn', \"mightn't\", 'mustn', \"mustn't\", 'needn', \"needn't\", 'shan', \"shan't\", 'shouldn', \"shouldn't\", 'wasn', \"wasn't\", 'weren', \"weren't\", 'won', \"won't\", 'wouldn', \"wouldn't\", 'stock', 'shares', 'like', 'company', 'one', 'market', 'im', 'time', 'would', 'price']}\n",
      "Score on Training Data: 0.7442698100851343\n",
      "Score on Testing Data: 0.6989528795811518\n"
     ]
    },
    {
     "data": {
      "image/png": "[encoded data removed]",
      "text/plain": [
       "<Figure size 432x288 with 2 Axes>"
      ]
     },
     "metadata": {
      "needs_background": "light"
     },
     "output_type": "display_data"
    },
    {
     "name": "stdout",
     "output_type": "stream",
     "text": [
      "Accuracy: 0.699\n",
      "Precision: 0.677\n",
      "Recall: 0.807\n",
      "F1: 0.736\n",
      "ROC AUC: 0.694\n"
     ]
    }
   ],
   "source": [
    "run_model_rs(pipe_tfidf_rf, params_tfidf_rf, kind = 'unmodified', model_name = 'Random Forest TF-IDF Unmodifed')"
   ]
  },
  {
   "cell_type": "markdown",
   "metadata": {},
   "source": [
    "##### Lemmatized text"
   ]
  },
  {
   "cell_type": "code",
   "execution_count": 56,
   "metadata": {},
   "outputs": [
    {
     "name": "stdout",
     "output_type": "stream",
     "text": [
      "Fitting 3 folds for each of 324 candidates, totalling 972 fits\n",
      "Best Score: 0.6915520628683693\n",
      "Best Parameters: {'rf__max_depth': 7, 'rf__n_estimators': 150, 'tfidf__max_df': 0.95, 'tfidf__max_features': 200, 'tfidf__min_df': 2, 'tfidf__ngram_range': (1, 2), 'tfidf__stop_words': ['i', 'me', 'my', 'myself', 'we', 'our', 'ours', 'ourselves', 'you', \"you're\", \"you've\", \"you'll\", \"you'd\", 'your', 'yours', 'yourself', 'yourselves', 'he', 'him', 'his', 'himself', 'she', \"she's\", 'her', 'hers', 'herself', 'it', \"it's\", 'its', 'itself', 'they', 'them', 'their', 'theirs', 'themselves', 'what', 'which', 'who', 'whom', 'this', 'that', \"that'll\", 'these', 'those', 'am', 'is', 'are', 'was', 'were', 'be', 'been', 'being', 'have', 'has', 'had', 'having', 'do', 'does', 'did', 'doing', 'a', 'an', 'the', 'and', 'but', 'if', 'or', 'because', 'as', 'until', 'while', 'of', 'at', 'by', 'for', 'with', 'about', 'against', 'between', 'into', 'through', 'during', 'before', 'after', 'above', 'below', 'to', 'from', 'up', 'down', 'in', 'out', 'on', 'off', 'over', 'under', 'again', 'further', 'then', 'once', 'here', 'there', 'when', 'where', 'why', 'how', 'all', 'any', 'both', 'each', 'few', 'more', 'most', 'other', 'some', 'such', 'no', 'nor', 'not', 'only', 'own', 'same', 'so', 'than', 'too', 'very', 's', 't', 'can', 'will', 'just', 'don', \"don't\", 'should', \"should've\", 'now', 'd', 'll', 'm', 'o', 're', 've', 'y', 'ain', 'aren', \"aren't\", 'couldn', \"couldn't\", 'didn', \"didn't\", 'doesn', \"doesn't\", 'hadn', \"hadn't\", 'hasn', \"hasn't\", 'haven', \"haven't\", 'isn', \"isn't\", 'ma', 'mightn', \"mightn't\", 'mustn', \"mustn't\", 'needn', \"needn't\", 'shan', \"shan't\", 'shouldn', \"shouldn't\", 'wasn', \"wasn't\", 'weren', \"weren't\", 'won', \"won't\", 'wouldn', \"wouldn't\", 'stock', 'shares', 'like', 'company', 'one', 'market', 'im', 'time', 'would', 'price']}\n",
      "Score on Training Data: 0.7265880812049771\n",
      "Score on Testing Data: 0.6910994764397905\n"
     ]
    },
    {
     "data": {
      "image/png": "[encoded data removed]",
      "text/plain": [
       "<Figure size 432x288 with 2 Axes>"
      ]
     },
     "metadata": {
      "needs_background": "light"
     },
     "output_type": "display_data"
    },
    {
     "name": "stdout",
     "output_type": "stream",
     "text": [
      "Accuracy: 0.691\n",
      "Precision: 0.692\n",
      "Recall: 0.734\n",
      "F1: 0.712\n",
      "ROC AUC: 0.689\n"
     ]
    }
   ],
   "source": [
    "run_model_rs(pipe_tfidf_rf, params_tfidf_rf, kind = 'lem', model_name = 'Random Forest TF-IDF Lemmatized')"
   ]
  },
  {
   "cell_type": "markdown",
   "metadata": {},
   "source": [
    "##### Stemmed text"
   ]
  },
  {
   "cell_type": "code",
   "execution_count": 58,
   "metadata": {},
   "outputs": [
    {
     "name": "stdout",
     "output_type": "stream",
     "text": [
      "Fitting 3 folds for each of 324 candidates, totalling 972 fits\n",
      "Best Score: 0.7030124426981009\n",
      "Best Parameters: {'rf__max_depth': 7, 'rf__n_estimators': 100, 'tfidf__max_df': 0.9, 'tfidf__max_features': 300, 'tfidf__min_df': 2, 'tfidf__ngram_range': (1, 1), 'tfidf__stop_words': ['i', 'me', 'my', 'myself', 'we', 'our', 'ours', 'ourselves', 'you', \"you're\", \"you've\", \"you'll\", \"you'd\", 'your', 'yours', 'yourself', 'yourselves', 'he', 'him', 'his', 'himself', 'she', \"she's\", 'her', 'hers', 'herself', 'it', \"it's\", 'its', 'itself', 'they', 'them', 'their', 'theirs', 'themselves', 'what', 'which', 'who', 'whom', 'this', 'that', \"that'll\", 'these', 'those', 'am', 'is', 'are', 'was', 'were', 'be', 'been', 'being', 'have', 'has', 'had', 'having', 'do', 'does', 'did', 'doing', 'a', 'an', 'the', 'and', 'but', 'if', 'or', 'because', 'as', 'until', 'while', 'of', 'at', 'by', 'for', 'with', 'about', 'against', 'between', 'into', 'through', 'during', 'before', 'after', 'above', 'below', 'to', 'from', 'up', 'down', 'in', 'out', 'on', 'off', 'over', 'under', 'again', 'further', 'then', 'once', 'here', 'there', 'when', 'where', 'why', 'how', 'all', 'any', 'both', 'each', 'few', 'more', 'most', 'other', 'some', 'such', 'no', 'nor', 'not', 'only', 'own', 'same', 'so', 'than', 'too', 'very', 's', 't', 'can', 'will', 'just', 'don', \"don't\", 'should', \"should've\", 'now', 'd', 'll', 'm', 'o', 're', 've', 'y', 'ain', 'aren', \"aren't\", 'couldn', \"couldn't\", 'didn', \"didn't\", 'doesn', \"doesn't\", 'hadn', \"hadn't\", 'hasn', \"hasn't\", 'haven', \"haven't\", 'isn', \"isn't\", 'ma', 'mightn', \"mightn't\", 'mustn', \"mustn't\", 'needn', \"needn't\", 'shan', \"shan't\", 'shouldn', \"shouldn't\", 'wasn', \"wasn't\", 'weren', \"weren't\", 'won', \"won't\", 'wouldn', \"wouldn't\", 'stock', 'shares', 'like', 'company', 'one', 'market', 'im', 'time', 'would', 'price']}\n",
      "Score on Training Data: 0.7619515389652914\n",
      "Score on Testing Data: 0.693717277486911\n"
     ]
    },
    {
     "data": {
      "image/png": "[encoded data removed]",
      "text/plain": [
       "<Figure size 432x288 with 2 Axes>"
      ]
     },
     "metadata": {
      "needs_background": "light"
     },
     "output_type": "display_data"
    },
    {
     "name": "stdout",
     "output_type": "stream",
     "text": [
      "Accuracy: 0.694\n",
      "Precision: 0.683\n",
      "Recall: 0.769\n",
      "F1: 0.723\n",
      "ROC AUC: 0.69\n"
     ]
    }
   ],
   "source": [
    "run_model_rs(pipe_tfidf_rf, params_tfidf_rf, kind = 'stem', model_name = 'Random Forest TF-IDF Stemmed')"
   ]
  },
  {
   "cell_type": "markdown",
   "metadata": {},
   "source": [
    "## Multinomial Naive Bayes Model ####\n",
    "### CountVectorizer\n",
    "#### Unmodified Text"
   ]
  },
  {
   "cell_type": "code",
   "execution_count": 60,
   "metadata": {},
   "outputs": [
    {
     "name": "stdout",
     "output_type": "stream",
     "text": [
      "Fitting 3 folds for each of 108 candidates, totalling 324 fits\n",
      "Best Score: 0.6787819253438115\n",
      "Best Parameters: {'cvec__max_df': 0.85, 'cvec__max_features': 500, 'cvec__min_df': 2, 'cvec__ngram_range': (1, 1), 'cvec__stop_words': ['i', 'me', 'my', 'myself', 'we', 'our', 'ours', 'ourselves', 'you', \"you're\", \"you've\", \"you'll\", \"you'd\", 'your', 'yours', 'yourself', 'yourselves', 'he', 'him', 'his', 'himself', 'she', \"she's\", 'her', 'hers', 'herself', 'it', \"it's\", 'its', 'itself', 'they', 'them', 'their', 'theirs', 'themselves', 'what', 'which', 'who', 'whom', 'this', 'that', \"that'll\", 'these', 'those', 'am', 'is', 'are', 'was', 'were', 'be', 'been', 'being', 'have', 'has', 'had', 'having', 'do', 'does', 'did', 'doing', 'a', 'an', 'the', 'and', 'but', 'if', 'or', 'because', 'as', 'until', 'while', 'of', 'at', 'by', 'for', 'with', 'about', 'against', 'between', 'into', 'through', 'during', 'before', 'after', 'above', 'below', 'to', 'from', 'up', 'down', 'in', 'out', 'on', 'off', 'over', 'under', 'again', 'further', 'then', 'once', 'here', 'there', 'when', 'where', 'why', 'how', 'all', 'any', 'both', 'each', 'few', 'more', 'most', 'other', 'some', 'such', 'no', 'nor', 'not', 'only', 'own', 'same', 'so', 'than', 'too', 'very', 's', 't', 'can', 'will', 'just', 'don', \"don't\", 'should', \"should've\", 'now', 'd', 'll', 'm', 'o', 're', 've', 'y', 'ain', 'aren', \"aren't\", 'couldn', \"couldn't\", 'didn', \"didn't\", 'doesn', \"doesn't\", 'hadn', \"hadn't\", 'hasn', \"hasn't\", 'haven', \"haven't\", 'isn', \"isn't\", 'ma', 'mightn', \"mightn't\", 'mustn', \"mustn't\", 'needn', \"needn't\", 'shan', \"shan't\", 'shouldn', \"shouldn't\", 'wasn', \"wasn't\", 'weren', \"weren't\", 'won', \"won't\", 'wouldn', \"wouldn't\", 'stock', 'shares', 'like', 'company', 'one', 'market', 'im', 'time', 'would', 'price'], 'mnb__alpha': 0.8}\n",
      "Score on Training Data: 0.7017026850032744\n",
      "Score on Testing Data: 0.7094240837696335\n"
     ]
    },
    {
     "data": {
      "image/png": "[encoded data removed]",
      "text/plain": [
       "<Figure size 432x288 with 2 Axes>"
      ]
     },
     "metadata": {
      "needs_background": "light"
     },
     "output_type": "display_data"
    },
    {
     "name": "stdout",
     "output_type": "stream",
     "text": [
      "Accuracy: 0.709\n",
      "Precision: 0.73\n",
      "Recall: 0.701\n",
      "F1: 0.715\n",
      "ROC AUC: 0.71\n"
     ]
    }
   ],
   "source": [
    "run_model_rs(pipe_cvec_mnb, params_cvec_mnb, kind = 'unmodified', model_name = 'Naive Bayes CountVectorizer Unmodifed')"
   ]
  },
  {
   "cell_type": "markdown",
   "metadata": {},
   "source": [
    "#### Lemmatized Text"
   ]
  },
  {
   "cell_type": "code",
   "execution_count": 62,
   "metadata": {},
   "outputs": [
    {
     "name": "stdout",
     "output_type": "stream",
     "text": [
      "Fitting 3 folds for each of 108 candidates, totalling 324 fits\n",
      "Best Score: 0.6725605762933857\n",
      "Best Parameters: {'cvec__max_df': 0.85, 'cvec__max_features': 500, 'cvec__min_df': 2, 'cvec__ngram_range': (1, 1), 'cvec__stop_words': ['i', 'me', 'my', 'myself', 'we', 'our', 'ours', 'ourselves', 'you', \"you're\", \"you've\", \"you'll\", \"you'd\", 'your', 'yours', 'yourself', 'yourselves', 'he', 'him', 'his', 'himself', 'she', \"she's\", 'her', 'hers', 'herself', 'it', \"it's\", 'its', 'itself', 'they', 'them', 'their', 'theirs', 'themselves', 'what', 'which', 'who', 'whom', 'this', 'that', \"that'll\", 'these', 'those', 'am', 'is', 'are', 'was', 'were', 'be', 'been', 'being', 'have', 'has', 'had', 'having', 'do', 'does', 'did', 'doing', 'a', 'an', 'the', 'and', 'but', 'if', 'or', 'because', 'as', 'until', 'while', 'of', 'at', 'by', 'for', 'with', 'about', 'against', 'between', 'into', 'through', 'during', 'before', 'after', 'above', 'below', 'to', 'from', 'up', 'down', 'in', 'out', 'on', 'off', 'over', 'under', 'again', 'further', 'then', 'once', 'here', 'there', 'when', 'where', 'why', 'how', 'all', 'any', 'both', 'each', 'few', 'more', 'most', 'other', 'some', 'such', 'no', 'nor', 'not', 'only', 'own', 'same', 'so', 'than', 'too', 'very', 's', 't', 'can', 'will', 'just', 'don', \"don't\", 'should', \"should've\", 'now', 'd', 'll', 'm', 'o', 're', 've', 'y', 'ain', 'aren', \"aren't\", 'couldn', \"couldn't\", 'didn', \"didn't\", 'doesn', \"doesn't\", 'hadn', \"hadn't\", 'hasn', \"hasn't\", 'haven', \"haven't\", 'isn', \"isn't\", 'ma', 'mightn', \"mightn't\", 'mustn', \"mustn't\", 'needn', \"needn't\", 'shan', \"shan't\", 'shouldn', \"shouldn't\", 'wasn', \"wasn't\", 'weren', \"weren't\", 'won', \"won't\", 'wouldn', \"wouldn't\", 'stock', 'shares', 'like', 'company', 'one', 'market', 'im', 'time', 'would', 'price'], 'mnb__alpha': 1}\n",
      "Score on Training Data: 0.6925343811394892\n",
      "Score on Testing Data: 0.6924083769633508\n"
     ]
    },
    {
     "data": {
      "image/png": "[encoded data removed]",
      "text/plain": [
       "<Figure size 432x288 with 2 Axes>"
      ]
     },
     "metadata": {
      "needs_background": "light"
     },
     "output_type": "display_data"
    },
    {
     "name": "stdout",
     "output_type": "stream",
     "text": [
      "Accuracy: 0.692\n",
      "Precision: 0.705\n",
      "Recall: 0.704\n",
      "F1: 0.704\n",
      "ROC AUC: 0.692\n"
     ]
    }
   ],
   "source": [
    "run_model_rs(pipe_cvec_mnb, params_cvec_mnb, kind = 'lem', model_name = 'Naive Bayes CountVectorizer Lemmatized')"
   ]
  },
  {
   "cell_type": "markdown",
   "metadata": {},
   "source": [
    "#### Stemmed Text"
   ]
  },
  {
   "cell_type": "code",
   "execution_count": 64,
   "metadata": {},
   "outputs": [
    {
     "name": "stdout",
     "output_type": "stream",
     "text": [
      "Fitting 3 folds for each of 108 candidates, totalling 324 fits\n",
      "Best Score: 0.6781270464963981\n",
      "Best Parameters: {'cvec__max_df': 0.85, 'cvec__max_features': 500, 'cvec__min_df': 2, 'cvec__ngram_range': (1, 1), 'cvec__stop_words': ['i', 'me', 'my', 'myself', 'we', 'our', 'ours', 'ourselves', 'you', \"you're\", \"you've\", \"you'll\", \"you'd\", 'your', 'yours', 'yourself', 'yourselves', 'he', 'him', 'his', 'himself', 'she', \"she's\", 'her', 'hers', 'herself', 'it', \"it's\", 'its', 'itself', 'they', 'them', 'their', 'theirs', 'themselves', 'what', 'which', 'who', 'whom', 'this', 'that', \"that'll\", 'these', 'those', 'am', 'is', 'are', 'was', 'were', 'be', 'been', 'being', 'have', 'has', 'had', 'having', 'do', 'does', 'did', 'doing', 'a', 'an', 'the', 'and', 'but', 'if', 'or', 'because', 'as', 'until', 'while', 'of', 'at', 'by', 'for', 'with', 'about', 'against', 'between', 'into', 'through', 'during', 'before', 'after', 'above', 'below', 'to', 'from', 'up', 'down', 'in', 'out', 'on', 'off', 'over', 'under', 'again', 'further', 'then', 'once', 'here', 'there', 'when', 'where', 'why', 'how', 'all', 'any', 'both', 'each', 'few', 'more', 'most', 'other', 'some', 'such', 'no', 'nor', 'not', 'only', 'own', 'same', 'so', 'than', 'too', 'very', 's', 't', 'can', 'will', 'just', 'don', \"don't\", 'should', \"should've\", 'now', 'd', 'll', 'm', 'o', 're', 've', 'y', 'ain', 'aren', \"aren't\", 'couldn', \"couldn't\", 'didn', \"didn't\", 'doesn', \"doesn't\", 'hadn', \"hadn't\", 'hasn', \"hasn't\", 'haven', \"haven't\", 'isn', \"isn't\", 'ma', 'mightn', \"mightn't\", 'mustn', \"mustn't\", 'needn', \"needn't\", 'shan', \"shan't\", 'shouldn', \"shouldn't\", 'wasn', \"wasn't\", 'weren', \"weren't\", 'won', \"won't\", 'wouldn', \"wouldn't\", 'stock', 'shares', 'like', 'company', 'one', 'market', 'im', 'time', 'would', 'price'], 'mnb__alpha': 0.8}\n",
      "Score on Training Data: 0.702030124426981\n",
      "Score on Testing Data: 0.7028795811518325\n"
     ]
    },
    {
     "data": {
      "image/png": "[encoded data removed]",
      "text/plain": [
       "<Figure size 432x288 with 2 Axes>"
      ]
     },
     "metadata": {
      "needs_background": "light"
     },
     "output_type": "display_data"
    },
    {
     "name": "stdout",
     "output_type": "stream",
     "text": [
      "Accuracy: 0.703\n",
      "Precision: 0.71\n",
      "Recall: 0.726\n",
      "F1: 0.718\n",
      "ROC AUC: 0.702\n"
     ]
    }
   ],
   "source": [
    "run_model_rs(pipe_cvec_mnb, params_cvec_mnb, kind = 'stem', model_name = 'Naive Bayes CountVectorizer Stemmed')"
   ]
  },
  {
   "cell_type": "markdown",
   "metadata": {},
   "source": [
    "### TF-IDF Vectorizer\n",
    "#### Unmodified Text"
   ]
  },
  {
   "cell_type": "code",
   "execution_count": 66,
   "metadata": {},
   "outputs": [
    {
     "name": "stdout",
     "output_type": "stream",
     "text": [
      "Fitting 3 folds for each of 108 candidates, totalling 324 fits\n",
      "Best Score: 0.7085789129011132\n",
      "Best Parameters: {'mnb__alpha': 1, 'tfidf__max_df': 0.85, 'tfidf__max_features': 500, 'tfidf__min_df': 2, 'tfidf__ngram_range': (1, 2), 'tfidf__stop_words': ['i', 'me', 'my', 'myself', 'we', 'our', 'ours', 'ourselves', 'you', \"you're\", \"you've\", \"you'll\", \"you'd\", 'your', 'yours', 'yourself', 'yourselves', 'he', 'him', 'his', 'himself', 'she', \"she's\", 'her', 'hers', 'herself', 'it', \"it's\", 'its', 'itself', 'they', 'them', 'their', 'theirs', 'themselves', 'what', 'which', 'who', 'whom', 'this', 'that', \"that'll\", 'these', 'those', 'am', 'is', 'are', 'was', 'were', 'be', 'been', 'being', 'have', 'has', 'had', 'having', 'do', 'does', 'did', 'doing', 'a', 'an', 'the', 'and', 'but', 'if', 'or', 'because', 'as', 'until', 'while', 'of', 'at', 'by', 'for', 'with', 'about', 'against', 'between', 'into', 'through', 'during', 'before', 'after', 'above', 'below', 'to', 'from', 'up', 'down', 'in', 'out', 'on', 'off', 'over', 'under', 'again', 'further', 'then', 'once', 'here', 'there', 'when', 'where', 'why', 'how', 'all', 'any', 'both', 'each', 'few', 'more', 'most', 'other', 'some', 'such', 'no', 'nor', 'not', 'only', 'own', 'same', 'so', 'than', 'too', 'very', 's', 't', 'can', 'will', 'just', 'don', \"don't\", 'should', \"should've\", 'now', 'd', 'll', 'm', 'o', 're', 've', 'y', 'ain', 'aren', \"aren't\", 'couldn', \"couldn't\", 'didn', \"didn't\", 'doesn', \"doesn't\", 'hadn', \"hadn't\", 'hasn', \"hasn't\", 'haven', \"haven't\", 'isn', \"isn't\", 'ma', 'mightn', \"mightn't\", 'mustn', \"mustn't\", 'needn', \"needn't\", 'shan', \"shan't\", 'shouldn', \"shouldn't\", 'wasn', \"wasn't\", 'weren', \"weren't\", 'won', \"won't\", 'wouldn', \"wouldn't\", 'stock', 'shares', 'like', 'company', 'one', 'market', 'im', 'time', 'would', 'price']}\n",
      "Score on Training Data: 0.7514734774066798\n",
      "Score on Testing Data: 0.7277486910994765\n"
     ]
    },
    {
     "data": {
      "image/png": "[encoded data removed]",
      "text/plain": [
       "<Figure size 432x288 with 2 Axes>"
      ]
     },
     "metadata": {
      "needs_background": "light"
     },
     "output_type": "display_data"
    },
    {
     "name": "stdout",
     "output_type": "stream",
     "text": [
      "Accuracy: 0.728\n",
      "Precision: 0.815\n",
      "Recall: 0.618\n",
      "F1: 0.703\n",
      "ROC AUC: 0.733\n"
     ]
    }
   ],
   "source": [
    "run_model_rs(pipe_tfidf_mnb, params_tfidf_mnb, kind = 'unmodified', model_name = 'Naive Bayes TF-IDF Unmodifed')"
   ]
  },
  {
   "cell_type": "markdown",
   "metadata": {},
   "source": [
    "#### Lemmatized Text"
   ]
  },
  {
   "cell_type": "code",
   "execution_count": 68,
   "metadata": {},
   "outputs": [
    {
     "name": "stdout",
     "output_type": "stream",
     "text": [
      "Fitting 3 folds for each of 108 candidates, totalling 324 fits\n",
      "Best Score: 0.7010478061558612\n",
      "Best Parameters: {'mnb__alpha': 0.9, 'tfidf__max_df': 0.85, 'tfidf__max_features': 500, 'tfidf__min_df': 2, 'tfidf__ngram_range': (1, 2), 'tfidf__stop_words': ['i', 'me', 'my', 'myself', 'we', 'our', 'ours', 'ourselves', 'you', \"you're\", \"you've\", \"you'll\", \"you'd\", 'your', 'yours', 'yourself', 'yourselves', 'he', 'him', 'his', 'himself', 'she', \"she's\", 'her', 'hers', 'herself', 'it', \"it's\", 'its', 'itself', 'they', 'them', 'their', 'theirs', 'themselves', 'what', 'which', 'who', 'whom', 'this', 'that', \"that'll\", 'these', 'those', 'am', 'is', 'are', 'was', 'were', 'be', 'been', 'being', 'have', 'has', 'had', 'having', 'do', 'does', 'did', 'doing', 'a', 'an', 'the', 'and', 'but', 'if', 'or', 'because', 'as', 'until', 'while', 'of', 'at', 'by', 'for', 'with', 'about', 'against', 'between', 'into', 'through', 'during', 'before', 'after', 'above', 'below', 'to', 'from', 'up', 'down', 'in', 'out', 'on', 'off', 'over', 'under', 'again', 'further', 'then', 'once', 'here', 'there', 'when', 'where', 'why', 'how', 'all', 'any', 'both', 'each', 'few', 'more', 'most', 'other', 'some', 'such', 'no', 'nor', 'not', 'only', 'own', 'same', 'so', 'than', 'too', 'very', 's', 't', 'can', 'will', 'just', 'don', \"don't\", 'should', \"should've\", 'now', 'd', 'll', 'm', 'o', 're', 've', 'y', 'ain', 'aren', \"aren't\", 'couldn', \"couldn't\", 'didn', \"didn't\", 'doesn', \"doesn't\", 'hadn', \"hadn't\", 'hasn', \"hasn't\", 'haven', \"haven't\", 'isn', \"isn't\", 'ma', 'mightn', \"mightn't\", 'mustn', \"mustn't\", 'needn', \"needn't\", 'shan', \"shan't\", 'shouldn', \"shouldn't\", 'wasn', \"wasn't\", 'weren', \"weren't\", 'won', \"won't\", 'wouldn', \"wouldn't\", 'stock', 'shares', 'like', 'company', 'one', 'market', 'im', 'time', 'would', 'price']}\n",
      "Score on Training Data: 0.7452521283562541\n",
      "Score on Testing Data: 0.7133507853403142\n"
     ]
    },
    {
     "data": {
      "image/png": "[encoded data removed]",
      "text/plain": [
       "<Figure size 432x288 with 2 Axes>"
      ]
     },
     "metadata": {
      "needs_background": "light"
     },
     "output_type": "display_data"
    },
    {
     "name": "stdout",
     "output_type": "stream",
     "text": [
      "Accuracy: 0.713\n",
      "Precision: 0.788\n",
      "Recall: 0.616\n",
      "F1: 0.691\n",
      "ROC AUC: 0.718\n"
     ]
    }
   ],
   "source": [
    "run_model_rs(pipe_tfidf_mnb, params_tfidf_mnb, kind = 'lem', model_name = 'Naive Bayes TF-IDF Lemmatized')"
   ]
  },
  {
   "cell_type": "markdown",
   "metadata": {},
   "source": [
    "#### Stemmed Text"
   ]
  },
  {
   "cell_type": "code",
   "execution_count": 70,
   "metadata": {},
   "outputs": [
    {
     "name": "stdout",
     "output_type": "stream",
     "text": [
      "Fitting 3 folds for each of 108 candidates, totalling 324 fits\n",
      "Best Score: 0.7174197773411919\n",
      "Best Parameters: {'mnb__alpha': 1, 'tfidf__max_df': 0.85, 'tfidf__max_features': 500, 'tfidf__min_df': 2, 'tfidf__ngram_range': (1, 1), 'tfidf__stop_words': ['i', 'me', 'my', 'myself', 'we', 'our', 'ours', 'ourselves', 'you', \"you're\", \"you've\", \"you'll\", \"you'd\", 'your', 'yours', 'yourself', 'yourselves', 'he', 'him', 'his', 'himself', 'she', \"she's\", 'her', 'hers', 'herself', 'it', \"it's\", 'its', 'itself', 'they', 'them', 'their', 'theirs', 'themselves', 'what', 'which', 'who', 'whom', 'this', 'that', \"that'll\", 'these', 'those', 'am', 'is', 'are', 'was', 'were', 'be', 'been', 'being', 'have', 'has', 'had', 'having', 'do', 'does', 'did', 'doing', 'a', 'an', 'the', 'and', 'but', 'if', 'or', 'because', 'as', 'until', 'while', 'of', 'at', 'by', 'for', 'with', 'about', 'against', 'between', 'into', 'through', 'during', 'before', 'after', 'above', 'below', 'to', 'from', 'up', 'down', 'in', 'out', 'on', 'off', 'over', 'under', 'again', 'further', 'then', 'once', 'here', 'there', 'when', 'where', 'why', 'how', 'all', 'any', 'both', 'each', 'few', 'more', 'most', 'other', 'some', 'such', 'no', 'nor', 'not', 'only', 'own', 'same', 'so', 'than', 'too', 'very', 's', 't', 'can', 'will', 'just', 'don', \"don't\", 'should', \"should've\", 'now', 'd', 'll', 'm', 'o', 're', 've', 'y', 'ain', 'aren', \"aren't\", 'couldn', \"couldn't\", 'didn', \"didn't\", 'doesn', \"doesn't\", 'hadn', \"hadn't\", 'hasn', \"hasn't\", 'haven', \"haven't\", 'isn', \"isn't\", 'ma', 'mightn', \"mightn't\", 'mustn', \"mustn't\", 'needn', \"needn't\", 'shan', \"shan't\", 'shouldn', \"shouldn't\", 'wasn', \"wasn't\", 'weren', \"weren't\", 'won', \"won't\", 'wouldn', \"wouldn't\", 'stock', 'shares', 'like', 'company', 'one', 'market', 'im', 'time', 'would', 'price']}\n",
      "Score on Training Data: 0.7576948264571054\n",
      "Score on Testing Data: 0.7120418848167539\n"
     ]
    },
    {
     "data": {
      "image/png": "[encoded data removed]",
      "text/plain": [
       "<Figure size 432x288 with 2 Axes>"
      ]
     },
     "metadata": {
      "needs_background": "light"
     },
     "output_type": "display_data"
    },
    {
     "name": "stdout",
     "output_type": "stream",
     "text": [
      "Accuracy: 0.712\n",
      "Precision: 0.771\n",
      "Recall: 0.636\n",
      "F1: 0.697\n",
      "ROC AUC: 0.715\n"
     ]
    }
   ],
   "source": [
    "run_model_rs(pipe_tfidf_mnb, params_tfidf_mnb, kind = 'stem', model_name = 'Naive Bayes TF-IDF Stemmed')"
   ]
  },
  {
   "cell_type": "markdown",
   "metadata": {},
   "source": [
    "## Model evaluation and recommendations"
   ]
  },
  {
   "cell_type": "code",
   "execution_count": 71,
   "metadata": {},
   "outputs": [
    {
     "data": {
      "text/html": [
       "<div>\n",
       "<style scoped>\n",
       "    .dataframe tbody tr th:only-of-type {\n",
       "        vertical-align: middle;\n",
       "    }\n",
       "\n",
       "    .dataframe tbody tr th {\n",
       "        vertical-align: top;\n",
       "    }\n",
       "\n",
       "    .dataframe thead th {\n",
       "        text-align: right;\n",
       "    }\n",
       "</style>\n",
       "<table border=\"1\" class=\"dataframe\">\n",
       "  <thead>\n",
       "    <tr style=\"text-align: right;\">\n",
       "      <th></th>\n",
       "      <th>Train score</th>\n",
       "      <th>Test score</th>\n",
       "      <th>Generalisation</th>\n",
       "      <th>Accuracy</th>\n",
       "      <th>Precision</th>\n",
       "      <th>Recall</th>\n",
       "      <th>Specificity</th>\n",
       "      <th>F1</th>\n",
       "      <th>ROC AUC</th>\n",
       "    </tr>\n",
       "  </thead>\n",
       "  <tbody>\n",
       "    <tr>\n",
       "      <th>Random Forest Count Vectorizer Unmodifed</th>\n",
       "      <td>0.725</td>\n",
       "      <td>0.699</td>\n",
       "      <td>3.586</td>\n",
       "      <td>0.699</td>\n",
       "      <td>0.676</td>\n",
       "      <td>0.812</td>\n",
       "      <td>0.577</td>\n",
       "      <td>0.738</td>\n",
       "      <td>0.694</td>\n",
       "    </tr>\n",
       "    <tr>\n",
       "      <th>Random Forest Count Vectorizer Lemmatized</th>\n",
       "      <td>0.711</td>\n",
       "      <td>0.688</td>\n",
       "      <td>3.235</td>\n",
       "      <td>0.688</td>\n",
       "      <td>0.684</td>\n",
       "      <td>0.746</td>\n",
       "      <td>0.626</td>\n",
       "      <td>0.714</td>\n",
       "      <td>0.686</td>\n",
       "    </tr>\n",
       "    <tr>\n",
       "      <th>Random Forest Count Vectorizer Stemmed</th>\n",
       "      <td>0.724</td>\n",
       "      <td>0.685</td>\n",
       "      <td>5.387</td>\n",
       "      <td>0.685</td>\n",
       "      <td>0.670</td>\n",
       "      <td>0.779</td>\n",
       "      <td>0.582</td>\n",
       "      <td>0.720</td>\n",
       "      <td>0.680</td>\n",
       "    </tr>\n",
       "    <tr>\n",
       "      <th>Random Forest TF-IDF Unmodifed</th>\n",
       "      <td>0.744</td>\n",
       "      <td>0.699</td>\n",
       "      <td>6.048</td>\n",
       "      <td>0.699</td>\n",
       "      <td>0.677</td>\n",
       "      <td>0.807</td>\n",
       "      <td>0.582</td>\n",
       "      <td>0.736</td>\n",
       "      <td>0.694</td>\n",
       "    </tr>\n",
       "    <tr>\n",
       "      <th>Random Forest TF-IDF Lemmatized</th>\n",
       "      <td>0.727</td>\n",
       "      <td>0.691</td>\n",
       "      <td>4.952</td>\n",
       "      <td>0.691</td>\n",
       "      <td>0.692</td>\n",
       "      <td>0.734</td>\n",
       "      <td>0.645</td>\n",
       "      <td>0.712</td>\n",
       "      <td>0.689</td>\n",
       "    </tr>\n",
       "    <tr>\n",
       "      <th>Random Forest TF-IDF Stemmed</th>\n",
       "      <td>0.762</td>\n",
       "      <td>0.694</td>\n",
       "      <td>8.924</td>\n",
       "      <td>0.694</td>\n",
       "      <td>0.683</td>\n",
       "      <td>0.769</td>\n",
       "      <td>0.612</td>\n",
       "      <td>0.723</td>\n",
       "      <td>0.690</td>\n",
       "    </tr>\n",
       "    <tr>\n",
       "      <th>Naive Bayes CountVectorizer Unmodifed</th>\n",
       "      <td>0.702</td>\n",
       "      <td>0.709</td>\n",
       "      <td>-0.997</td>\n",
       "      <td>0.709</td>\n",
       "      <td>0.730</td>\n",
       "      <td>0.701</td>\n",
       "      <td>0.719</td>\n",
       "      <td>0.715</td>\n",
       "      <td>0.710</td>\n",
       "    </tr>\n",
       "    <tr>\n",
       "      <th>Naive Bayes CountVectorizer Lemmatized</th>\n",
       "      <td>0.693</td>\n",
       "      <td>0.692</td>\n",
       "      <td>0.144</td>\n",
       "      <td>0.692</td>\n",
       "      <td>0.705</td>\n",
       "      <td>0.704</td>\n",
       "      <td>0.680</td>\n",
       "      <td>0.704</td>\n",
       "      <td>0.692</td>\n",
       "    </tr>\n",
       "    <tr>\n",
       "      <th>Naive Bayes CountVectorizer Stemmed</th>\n",
       "      <td>0.702</td>\n",
       "      <td>0.703</td>\n",
       "      <td>-0.142</td>\n",
       "      <td>0.703</td>\n",
       "      <td>0.710</td>\n",
       "      <td>0.726</td>\n",
       "      <td>0.678</td>\n",
       "      <td>0.718</td>\n",
       "      <td>0.702</td>\n",
       "    </tr>\n",
       "    <tr>\n",
       "      <th>Naive Bayes TF-IDF Unmodifed</th>\n",
       "      <td>0.751</td>\n",
       "      <td>0.728</td>\n",
       "      <td>3.063</td>\n",
       "      <td>0.728</td>\n",
       "      <td>0.815</td>\n",
       "      <td>0.618</td>\n",
       "      <td>0.847</td>\n",
       "      <td>0.703</td>\n",
       "      <td>0.733</td>\n",
       "    </tr>\n",
       "    <tr>\n",
       "      <th>Naive Bayes TF-IDF Lemmatized</th>\n",
       "      <td>0.745</td>\n",
       "      <td>0.713</td>\n",
       "      <td>4.295</td>\n",
       "      <td>0.713</td>\n",
       "      <td>0.788</td>\n",
       "      <td>0.616</td>\n",
       "      <td>0.820</td>\n",
       "      <td>0.691</td>\n",
       "      <td>0.718</td>\n",
       "    </tr>\n",
       "    <tr>\n",
       "      <th>Naive Bayes TF-IDF Stemmed</th>\n",
       "      <td>0.758</td>\n",
       "      <td>0.712</td>\n",
       "      <td>6.069</td>\n",
       "      <td>0.712</td>\n",
       "      <td>0.771</td>\n",
       "      <td>0.636</td>\n",
       "      <td>0.795</td>\n",
       "      <td>0.697</td>\n",
       "      <td>0.715</td>\n",
       "    </tr>\n",
       "  </tbody>\n",
       "</table>\n",
       "</div>"
      ],
      "text/plain": [
       "                                           Train score  Test score  \\\n",
       "Random Forest Count Vectorizer Unmodifed         0.725       0.699   \n",
       "Random Forest Count Vectorizer Lemmatized        0.711       0.688   \n",
       "Random Forest Count Vectorizer Stemmed           0.724       0.685   \n",
       "Random Forest TF-IDF Unmodifed                   0.744       0.699   \n",
       "Random Forest TF-IDF Lemmatized                  0.727       0.691   \n",
       "Random Forest TF-IDF Stemmed                     0.762       0.694   \n",
       "Naive Bayes CountVectorizer Unmodifed            0.702       0.709   \n",
       "Naive Bayes CountVectorizer Lemmatized           0.693       0.692   \n",
       "Naive Bayes CountVectorizer Stemmed              0.702       0.703   \n",
       "Naive Bayes TF-IDF Unmodifed                     0.751       0.728   \n",
       "Naive Bayes TF-IDF Lemmatized                    0.745       0.713   \n",
       "Naive Bayes TF-IDF Stemmed                       0.758       0.712   \n",
       "\n",
       "                                           Generalisation  Accuracy  \\\n",
       "Random Forest Count Vectorizer Unmodifed            3.586     0.699   \n",
       "Random Forest Count Vectorizer Lemmatized           3.235     0.688   \n",
       "Random Forest Count Vectorizer Stemmed              5.387     0.685   \n",
       "Random Forest TF-IDF Unmodifed                      6.048     0.699   \n",
       "Random Forest TF-IDF Lemmatized                     4.952     0.691   \n",
       "Random Forest TF-IDF Stemmed                        8.924     0.694   \n",
       "Naive Bayes CountVectorizer Unmodifed              -0.997     0.709   \n",
       "Naive Bayes CountVectorizer Lemmatized              0.144     0.692   \n",
       "Naive Bayes CountVectorizer Stemmed                -0.142     0.703   \n",
       "Naive Bayes TF-IDF Unmodifed                        3.063     0.728   \n",
       "Naive Bayes TF-IDF Lemmatized                       4.295     0.713   \n",
       "Naive Bayes TF-IDF Stemmed                          6.069     0.712   \n",
       "\n",
       "                                           Precision  Recall  Specificity  \\\n",
       "Random Forest Count Vectorizer Unmodifed       0.676   0.812        0.577   \n",
       "Random Forest Count Vectorizer Lemmatized      0.684   0.746        0.626   \n",
       "Random Forest Count Vectorizer Stemmed         0.670   0.779        0.582   \n",
       "Random Forest TF-IDF Unmodifed                 0.677   0.807        0.582   \n",
       "Random Forest TF-IDF Lemmatized                0.692   0.734        0.645   \n",
       "Random Forest TF-IDF Stemmed                   0.683   0.769        0.612   \n",
       "Naive Bayes CountVectorizer Unmodifed          0.730   0.701        0.719   \n",
       "Naive Bayes CountVectorizer Lemmatized         0.705   0.704        0.680   \n",
       "Naive Bayes CountVectorizer Stemmed            0.710   0.726        0.678   \n",
       "Naive Bayes TF-IDF Unmodifed                   0.815   0.618        0.847   \n",
       "Naive Bayes TF-IDF Lemmatized                  0.788   0.616        0.820   \n",
       "Naive Bayes TF-IDF Stemmed                     0.771   0.636        0.795   \n",
       "\n",
       "                                              F1  ROC AUC  \n",
       "Random Forest Count Vectorizer Unmodifed   0.738    0.694  \n",
       "Random Forest Count Vectorizer Lemmatized  0.714    0.686  \n",
       "Random Forest Count Vectorizer Stemmed     0.720    0.680  \n",
       "Random Forest TF-IDF Unmodifed             0.736    0.694  \n",
       "Random Forest TF-IDF Lemmatized            0.712    0.689  \n",
       "Random Forest TF-IDF Stemmed               0.723    0.690  \n",
       "Naive Bayes CountVectorizer Unmodifed      0.715    0.710  \n",
       "Naive Bayes CountVectorizer Lemmatized     0.704    0.692  \n",
       "Naive Bayes CountVectorizer Stemmed        0.718    0.702  \n",
       "Naive Bayes TF-IDF Unmodifed               0.703    0.733  \n",
       "Naive Bayes TF-IDF Lemmatized              0.691    0.718  \n",
       "Naive Bayes TF-IDF Stemmed                 0.697    0.715  "
      ]
     },
     "execution_count": 71,
     "metadata": {},
     "output_type": "execute_result"
    }
   ],
   "source": [
    "results_df = pd.DataFrame(results, index=['Train score', 'Test score', 'Generalisation','Accuracy', 'Precision', 'Recall', 'Specificity','F1', 'ROC AUC']).T\n",
    "                            \n",
    "results_df"
   ]
  },
  {
   "cell_type": "code",
   "execution_count": 72,
   "metadata": {},
   "outputs": [
    {
     "name": "stdout",
     "output_type": "stream",
     "text": [
      "Fitting 5 folds for each of 108 candidates, totalling 540 fits\n"
     ]
    }
   ],
   "source": [
    "#Best model\n",
    "best_model = GridSearchCV(pipe_tfidf_mnb, params_tfidf_mnb, cv = 5, n_jobs = -1, verbose = 1)\n",
    "best_model = best_model.fit(X_train_main, y_train_main)\n",
    "best_model.best_params_\n",
    "y_pred = best_model.predict(X_test_main)\n",
    "y_proba = best_model.predict_proba(X_test_main)[:,1]\n",
    "auc = round(roc_auc_score(y_test_main, y_proba),3)\n"
   ]
  },
  {
   "cell_type": "code",
   "execution_count": 73,
   "metadata": {},
   "outputs": [
    {
     "data": {
      "image/png": "[encoded data removed]",
      "text/plain": [
       "<Figure size 360x360 with 1 Axes>"
      ]
     },
     "metadata": {
      "needs_background": "light"
     },
     "output_type": "display_data"
    }
   ],
   "source": [
    "# Define a function to plot the ROC curve of the best model\n",
    "def plot_sklearn_roc_curve(y_real, y_pred):\n",
    "    fpr, tpr, thresholds = roc_curve(y_real, y_pred)\n",
    "    roc_display = RocCurveDisplay(fpr=fpr, tpr=tpr, estimator_name = f'AUC = {auc}').plot()\n",
    "    roc_display.figure_.set_size_inches(5,5)\n",
    "    plt.plot([0, 1], [0, 1], color = 'g')\n",
    "    plt.title('ROC Curve of Naive Bayes CountVectorizer Unmodified', fontsize = 14)\n",
    "    plt.legend(loc = 'lower right')\n",
    "\n",
    "plot_sklearn_roc_curve(y_test_main, y_proba)"
   ]
  },
  {
   "cell_type": "markdown",
   "metadata": {},
   "source": [
    "In total, the 3 different type of text data (Unmodified, Lemmatized and Stemmed) were inserted into the model of 2 different classifiers (RandomForest and Naive Bayes) utilising both CountVectorizer and TfidVectorizer to obtain 12 differen sets of results for evaluation.\n",
    "\n",
    "By employing text preprocessing such as stemming and lemmatization, we reduce the words to a common word root. This allows the words to be treated similarly and the model learns that they can be used in similar contexts. \n",
    "\n",
    "To evaluate the models, we will be using accuracy and precision as our main evaluation metrics. For precision and recall, there is a trade off between them. By increasing precision, we will decrease the recall. For a Subreddit classification model, we will want to maximise precision as we want to be correct when the subreddit are classified correctly. As there is minimal data imbalance, F1 score will not be a determining metric for evaluation. \n",
    "\n",
    "Specificity and sensitive will also not be used as it is not important to measure the proportion of positive class that is correctly predicted as positive as the impact of a wrong prediction is not fatal. \n",
    "\n",
    "ROC AUC score is also used as a consideration for evaluation with the score ranging from 0.5 to 1, where 1 is a perfect score which the model can predict classes correctly everytime and 0.5 means the model is as good as random. As our model have a score of 0.831, it shows a very good performance.\n",
    "\n",
    "From the table above, the Naive Bayes model with the TF-IDF preprocessing on unmodified text will be the most suitable model to be used for our dataset.\n",
    "\n",
    "\n"
   ]
  },
  {
   "cell_type": "markdown",
   "metadata": {},
   "source": [
    "\n",
    "\n",
    "Let us explore more on our selected model on how it perform with wrongly classified post and the feature importances of the model.\n",
    "## Wrongly classified post"
   ]
  },
  {
   "cell_type": "code",
   "execution_count": 74,
   "metadata": {},
   "outputs": [],
   "source": [
    "text_pred = list(zip(X_test_main, y_test_main, y_pred,))\n",
    "text_pred_df = pd.DataFrame(text_pred, columns = ['Text', 'Actual', 'Predicted'])"
   ]
  },
  {
   "cell_type": "code",
   "execution_count": 75,
   "metadata": {},
   "outputs": [
    {
     "data": {
      "text/html": [
       "<div>\n",
       "<style scoped>\n",
       "    .dataframe tbody tr th:only-of-type {\n",
       "        vertical-align: middle;\n",
       "    }\n",
       "\n",
       "    .dataframe tbody tr th {\n",
       "        vertical-align: top;\n",
       "    }\n",
       "\n",
       "    .dataframe thead th {\n",
       "        text-align: right;\n",
       "    }\n",
       "</style>\n",
       "<table border=\"1\" class=\"dataframe\">\n",
       "  <thead>\n",
       "    <tr style=\"text-align: right;\">\n",
       "      <th></th>\n",
       "      <th>Text</th>\n",
       "      <th>Actual</th>\n",
       "      <th>Predicted</th>\n",
       "    </tr>\n",
       "  </thead>\n",
       "  <tbody>\n",
       "    <tr>\n",
       "      <th>1</th>\n",
       "      <td>coin gang les goo</td>\n",
       "      <td>1</td>\n",
       "      <td>0</td>\n",
       "    </tr>\n",
       "    <tr>\n",
       "      <th>11</th>\n",
       "      <td>amc issues a preferred share split under new ticker  ape</td>\n",
       "      <td>0</td>\n",
       "      <td>1</td>\n",
       "    </tr>\n",
       "    <tr>\n",
       "      <th>12</th>\n",
       "      <td>kacl</td>\n",
       "      <td>1</td>\n",
       "      <td>0</td>\n",
       "    </tr>\n",
       "    <tr>\n",
       "      <th>14</th>\n",
       "      <td>wallstreet bets ceo confirms if he hate wallstreet bets or not in this videowe get a glipse into the mind of how jaime rogozinski sees the current financial market while speaking at the 2022 metaverse expo jaime rogozinski founded wallstreetbets in 2012a large online community which yields a commanding presence in the world of finance it has been featured in wall street journals marketwatch as well as bloomberg cnbc money magazine forbes vice business insider and fortunein 2019 wallstreetbets amassed over 800000 subscribers and more than 3 million monthly unique visitors he holds a degree in economics from the university of illinois urbanachampaign and is actively involved with tech and startup communities having been a judge for a range of awards including the entrepreneurs organization student award and angel hack both focused on fostering entrepreneurshipceo speech</td>\n",
       "      <td>1</td>\n",
       "      <td>0</td>\n",
       "    </tr>\n",
       "    <tr>\n",
       "      <th>16</th>\n",
       "      <td>holding the bag</td>\n",
       "      <td>1</td>\n",
       "      <td>0</td>\n",
       "    </tr>\n",
       "    <tr>\n",
       "      <th>17</th>\n",
       "      <td>squeezing workhorses lemonsqueezing the lemonworkhorse group inc wkhs can be found in a similar setup to the volkswagen vwagy short squeeze of 08for those of you who dont know volkswagen vwagy had one of the largest most costly and unforeseeable short squeezes in history from a starting price of 21085 24983 to 1005 119069in less than two days briefly making it the most valuable company in the worldnow lets try to enhance this perspective in 2008 we were in the midst of what was known as the great recession the worst financial disaster since the great depression the world equity markets were in a progressively worsening situation across 2008 for example two of the largest single day percentage drops in the sampp 500 index were in 2008 1 101508 904 2 120108 893in 2008 the auto industry as a whole was in a rough state because it is a cyclical stock so it moves depending on economic confidence so when the state of the economy is good it goes up when the state of the economy is bad it generally goes down of course in a financial crisis people are not buying cars because they have to be conservative with their money and put food on the table knowing there is so much uncertainty within the economy with this consistent drop of the auto industry it turned big auto companies in the world that are on every stock exchange into sexy attractive short candidates with that being said of course volkswagen was one of those candidates volkswagen at the time was in some pretty serious debt but consistently reported quarterly growth with consistent earnings in a troubling time volkswagen managed to keep the stock price around 300 355ten years ago amidst the worst financial crises since the great depression the american auto industry almost died by fall 2008 the big three us car companies of general motors chrysler and ford faced potential insolvency and without swift government intervention their futures were in doubt  business insidergeneral motors gm was the biggest automaker in the world for about 72 years which they then had to file for bankruptcy on june 1 2009 this is just perspective as to how bad the auto industry was in 2008 now im not saying its just as bad in 2021 but let me put the pieces together as to why this relates to workhorsethe downfall of the auto industry seemed like a nobrainer to short sellers to make boatloads of cash from struggling companies that were on the verge of bankruptcy it was looked at as an easy win easy money lets profit off of it lets short these companies like i said earlier the auto industry was getting wrecked so you can only imagine how luxury car companies are doing in this financial crisis as well porsche was fighting bankruptcy just like every other car company was in 2008 who the hell is buying a porsche in a recession prior to 2008 porsche was already a shareholder in volkswagen and as 2008 progressed porsche cleverly increased their holdings in volkswagen porsche had increased their position to 30 then 44 in october 2008porsche was holding 44 in shareholder equity but they also held options for an additional 30which gives a total of 74 of volkswagen shares very clever moveit was estimated that the short interest in volkswagen was only 1280 in todays market that doesnt seem too noteworthy workhorses short interest 39 now since porsche owned practically 75 of volkswagen share equity it went from the market assuming that there is an available float of 45 to all of a sudden realizing there is a float of not even 1 of outstanding shares with more than 70 of volkswagen stock controlled by porsche short sellers realized there was nothing available to cover bearish bets there was no stock float all or most of volkswagen shares were accounted for the door shorts had to run through to exit their positions turned out to be microscopic   baaronswhen there is such little float available on the market when people are expecting there to be so much more float then there initially is it creates a supply and demand issue and thats exactly what porscheknew was going to happen a supply and demand issue all of the short sellers needed to immediately buy to close their positions in volkswagen millions of shares worth of volkswagen needed to be purchased but there were just not enough shares to be issued out and sold when there is a ton of demand very little supply the price of the supply inflates like crazy and that inevitably became the volkswagen short squeeze of 08over the span of this historical short s...</td>\n",
       "      <td>1</td>\n",
       "      <td>0</td>\n",
       "    </tr>\n",
       "    <tr>\n",
       "      <th>20</th>\n",
       "      <td>does anyone trade price to book value what are your thoughtswith the guage of markets being over sold and over bought why not just use book value tsla had book value buy  680700googl after stock split book value buy  85 100and tons of others have great buys on book value and i dont seem to see anyone here talking about it</td>\n",
       "      <td>0</td>\n",
       "      <td>1</td>\n",
       "    </tr>\n",
       "    <tr>\n",
       "      <th>21</th>\n",
       "      <td>wall streets confidence in the stock market is the lowest in 5 years as markets price in an 80 chance of a mild recession bank of america says wall street is feeling the most downbeat about the stock market in years according to bank of america analysts and investors are getting ready for a recessionin a wednesday note analysts wrote that the banks sell side indicator has plummeted to its lowest mark in over five years the metric which tracks the average recommended allocation of stocks by sellside strategists slipped 78 basis points in julywe have found that wall streets consensus equity allocation has historically been a reliable contrarian indicator bofa analysts wrote while the ssi does not catch every rally or decline in the stock market the indicator has historically had some predictive capability with respect to subsequent 12month sampp 500 total returnsin the past wall streets consensus equity allocation has been able to signal the opposite of what strategists recommend meaning its been a bearish indicator when analysts were bullish and vice versanow the sell side indicator has hovered in neutral territory through the first half of the year but is now inching closer to buy after recent declineswall street is feeling the most downbeat about the stock market in years according to bank of america analysts and investors are getting ready for a recessionin a wednesday note analysts wrote that the banks sell side indicator has plummeted to its lowest mark in over five years the metric which tracks the average recommended allocation of stocks by sellside strategists slipped 78 basis points in julywe have found that wall streets consensus equity allocation has historically been a reliable contrarian indicator bofa analysts wrote while the sell side indicator does not catch every rally or decline in the stock market the indicator has historically had some predictive capability with respect to subsequent 12month sampp 500 total returnsin the past wall streets consensus equity allocation has been able to signal the opposite of what strategists recommend meaning its been a bearish indicator when analysts were bullish and vice versanow the sell side indicator has hovered in neutral territory through the first half of the year but is now inching closer to buy after recent declinesconfidence in the stock market is the lowest in 5 years as markets price in an 80 chance of a mild recession says bank of america bac the sampp 500 spy is up 13 from its june16th lows the largest bounce of the yearare you currently bullish bearish or neutral</td>\n",
       "      <td>1</td>\n",
       "      <td>0</td>\n",
       "    </tr>\n",
       "    <tr>\n",
       "      <th>24</th>\n",
       "      <td>ilag to infinity and beyond</td>\n",
       "      <td>1</td>\n",
       "      <td>0</td>\n",
       "    </tr>\n",
       "    <tr>\n",
       "      <th>27</th>\n",
       "      <td>which trading platform is allowing to short hkd</td>\n",
       "      <td>1</td>\n",
       "      <td>0</td>\n",
       "    </tr>\n",
       "  </tbody>\n",
       "</table>\n",
       "</div>"
      ],
      "text/plain": [
       "                                                                                                                                                                                                                                                                                                                                                                                                                                                                                                                                                                                                                                                                                                                                                                                                                                                                                                                                                                                                                                                                                                                                                                                                                                                                                                                                                                                                                                                                                                                                                                                                                                                                                                                                                                                                                                                                                                                                                                                                                                                                                                                                                                                                                                                                                                                                                                                                                                                                                                                                                                                                                                                                                                                                                                                                                                                                                                                                                                                                                                                                                                                                                                                                                                                                                                                                                                                                                                                                                                                                                                                                                                                                                                                                                                                                                                                                                                                                                                                                                                                                                                                                                                                                                                                                                                                                                                                                                                                                                                                                                                                                                                                                                   Text  \\\n",
       "1                                                                                                                                                                                                                                                                                                                                                                                                                                                                                                                                                                                                                                                                                                                                                                                                                                                                                                                                                                                                                                                                                                                                                                                                                                                                                                                                                                                                                                                                                                                                                                                                                                                                                                                                                                                                                                                                                                                                                                                                                                                                                                                                                                                                                                                                                                                                                                                                                                                                                                                                                                                                                                                                                                                                                                                                                                                                                                                                                                                                                                                                                                                                                                                                                                                                                                                                                                                                                                                                                                                                                                                                                                                                                                                                                                                                                                                                                                                                                                                                                                                                                                                                                                                                                                                                                                                                                                                                                                                                                                                                                                                                                                                                     coin gang les goo   \n",
       "11                                                                                                                                                                                                                                                                                                                                                                                                                                                                                                                                                                                                                                                                                                                                                                                                                                                                                                                                                                                                                                                                                                                                                                                                                                                                                                                                                                                                                                                                                                                                                                                                                                                                                                                                                                                                                                                                                                                                                                                                                                                                                                                                                                                                                                                                                                                                                                                                                                                                                                                                                                                                                                                                                                                                                                                                                                                                                                                                                                                                                                                                                                                                                                                                                                                                                                                                                                                                                                                                                                                                                                                                                                                                                                                                                                                                                                                                                                                                                                                                                                                                                                                                                                                                                                                                                                                                                                                                                                                                                                                                                                                                                             amc issues a preferred share split under new ticker  ape   \n",
       "12                                                                                                                                                                                                                                                                                                                                                                                                                                                                                                                                                                                                                                                                                                                                                                                                                                                                                                                                                                                                                                                                                                                                                                                                                                                                                                                                                                                                                                                                                                                                                                                                                                                                                                                                                                                                                                                                                                                                                                                                                                                                                                                                                                                                                                                                                                                                                                                                                                                                                                                                                                                                                                                                                                                                                                                                                                                                                                                                                                                                                                                                                                                                                                                                                                                                                                                                                                                                                                                                                                                                                                                                                                                                                                                                                                                                                                                                                                                                                                                                                                                                                                                                                                                                                                                                                                                                                                                                                                                                                                                                                                                                                                                                                 kacl   \n",
       "14                                                                                                                                                                                                                                                                                                                                                                                                                                                                                                                                                                                                                                                                                                                                                                                                                                                                                                                                                                                                                                                                                                                                                                                                                                                                                                                                                                                                                                                                                                                                                                                                                                                                                                                                                                                                                                                                                                                                                                                                                                                                                                                                                                                                                                                                                                                                                                                                                                                                                                                                                                                                                                                                                                                                                                                                                                                                                                                                                                                                                                                                                                                                                                                                                                                                                                                                                                                                                                                                                                                                                                                                                                                                                                                                                                     wallstreet bets ceo confirms if he hate wallstreet bets or not in this videowe get a glipse into the mind of how jaime rogozinski sees the current financial market while speaking at the 2022 metaverse expo jaime rogozinski founded wallstreetbets in 2012a large online community which yields a commanding presence in the world of finance it has been featured in wall street journals marketwatch as well as bloomberg cnbc money magazine forbes vice business insider and fortunein 2019 wallstreetbets amassed over 800000 subscribers and more than 3 million monthly unique visitors he holds a degree in economics from the university of illinois urbanachampaign and is actively involved with tech and startup communities having been a judge for a range of awards including the entrepreneurs organization student award and angel hack both focused on fostering entrepreneurshipceo speech   \n",
       "16                                                                                                                                                                                                                                                                                                                                                                                                                                                                                                                                                                                                                                                                                                                                                                                                                                                                                                                                                                                                                                                                                                                                                                                                                                                                                                                                                                                                                                                                                                                                                                                                                                                                                                                                                                                                                                                                                                                                                                                                                                                                                                                                                                                                                                                                                                                                                                                                                                                                                                                                                                                                                                                                                                                                                                                                                                                                                                                                                                                                                                                                                                                                                                                                                                                                                                                                                                                                                                                                                                                                                                                                                                                                                                                                                                                                                                                                                                                                                                                                                                                                                                                                                                                                                                                                                                                                                                                                                                                                                                                                                                                                                                                                      holding the bag   \n",
       "17  squeezing workhorses lemonsqueezing the lemonworkhorse group inc wkhs can be found in a similar setup to the volkswagen vwagy short squeeze of 08for those of you who dont know volkswagen vwagy had one of the largest most costly and unforeseeable short squeezes in history from a starting price of 21085 24983 to 1005 119069in less than two days briefly making it the most valuable company in the worldnow lets try to enhance this perspective in 2008 we were in the midst of what was known as the great recession the worst financial disaster since the great depression the world equity markets were in a progressively worsening situation across 2008 for example two of the largest single day percentage drops in the sampp 500 index were in 2008 1 101508 904 2 120108 893in 2008 the auto industry as a whole was in a rough state because it is a cyclical stock so it moves depending on economic confidence so when the state of the economy is good it goes up when the state of the economy is bad it generally goes down of course in a financial crisis people are not buying cars because they have to be conservative with their money and put food on the table knowing there is so much uncertainty within the economy with this consistent drop of the auto industry it turned big auto companies in the world that are on every stock exchange into sexy attractive short candidates with that being said of course volkswagen was one of those candidates volkswagen at the time was in some pretty serious debt but consistently reported quarterly growth with consistent earnings in a troubling time volkswagen managed to keep the stock price around 300 355ten years ago amidst the worst financial crises since the great depression the american auto industry almost died by fall 2008 the big three us car companies of general motors chrysler and ford faced potential insolvency and without swift government intervention their futures were in doubt  business insidergeneral motors gm was the biggest automaker in the world for about 72 years which they then had to file for bankruptcy on june 1 2009 this is just perspective as to how bad the auto industry was in 2008 now im not saying its just as bad in 2021 but let me put the pieces together as to why this relates to workhorsethe downfall of the auto industry seemed like a nobrainer to short sellers to make boatloads of cash from struggling companies that were on the verge of bankruptcy it was looked at as an easy win easy money lets profit off of it lets short these companies like i said earlier the auto industry was getting wrecked so you can only imagine how luxury car companies are doing in this financial crisis as well porsche was fighting bankruptcy just like every other car company was in 2008 who the hell is buying a porsche in a recession prior to 2008 porsche was already a shareholder in volkswagen and as 2008 progressed porsche cleverly increased their holdings in volkswagen porsche had increased their position to 30 then 44 in october 2008porsche was holding 44 in shareholder equity but they also held options for an additional 30which gives a total of 74 of volkswagen shares very clever moveit was estimated that the short interest in volkswagen was only 1280 in todays market that doesnt seem too noteworthy workhorses short interest 39 now since porsche owned practically 75 of volkswagen share equity it went from the market assuming that there is an available float of 45 to all of a sudden realizing there is a float of not even 1 of outstanding shares with more than 70 of volkswagen stock controlled by porsche short sellers realized there was nothing available to cover bearish bets there was no stock float all or most of volkswagen shares were accounted for the door shorts had to run through to exit their positions turned out to be microscopic   baaronswhen there is such little float available on the market when people are expecting there to be so much more float then there initially is it creates a supply and demand issue and thats exactly what porscheknew was going to happen a supply and demand issue all of the short sellers needed to immediately buy to close their positions in volkswagen millions of shares worth of volkswagen needed to be purchased but there were just not enough shares to be issued out and sold when there is a ton of demand very little supply the price of the supply inflates like crazy and that inevitably became the volkswagen short squeeze of 08over the span of this historical short s...   \n",
       "20                                                                                                                                                                                                                                                                                                                                                                                                                                                                                                                                                                                                                                                                                                                                                                                                                                                                                                                                                                                                                                                                                                                                                                                                                                                                                                                                                                                                                                                                                                                                                                                                                                                                                                                                                                                                                                                                                                                                                                                                                                                                                                                                                                                                                                                                                                                                                                                                                                                                                                                                                                                                                                                                                                                                                                                                                                                                                                                                                                                                                                                                                                                                                                                                                                                                                                                                                                                                                                                                                                                                                                                                                                                                                                                                                                                                                                                                                                                                                                                                                                                                                                                                                                                                                                                                                                                                                  does anyone trade price to book value what are your thoughtswith the guage of markets being over sold and over bought why not just use book value tsla had book value buy  680700googl after stock split book value buy  85 100and tons of others have great buys on book value and i dont seem to see anyone here talking about it   \n",
       "21                                                                                                                                                                                                                                                                                                                                                                                                                                                                                                                                                                                                                                                                                                                                                                                                                                                                                                                                                                                                                                                                                                                                                                                                                                                                                                                                                                                                                                                                                                                                                                                                                                                                                                                                                                                                                                                                                                                                                                                                        wall streets confidence in the stock market is the lowest in 5 years as markets price in an 80 chance of a mild recession bank of america says wall street is feeling the most downbeat about the stock market in years according to bank of america analysts and investors are getting ready for a recessionin a wednesday note analysts wrote that the banks sell side indicator has plummeted to its lowest mark in over five years the metric which tracks the average recommended allocation of stocks by sellside strategists slipped 78 basis points in julywe have found that wall streets consensus equity allocation has historically been a reliable contrarian indicator bofa analysts wrote while the ssi does not catch every rally or decline in the stock market the indicator has historically had some predictive capability with respect to subsequent 12month sampp 500 total returnsin the past wall streets consensus equity allocation has been able to signal the opposite of what strategists recommend meaning its been a bearish indicator when analysts were bullish and vice versanow the sell side indicator has hovered in neutral territory through the first half of the year but is now inching closer to buy after recent declineswall street is feeling the most downbeat about the stock market in years according to bank of america analysts and investors are getting ready for a recessionin a wednesday note analysts wrote that the banks sell side indicator has plummeted to its lowest mark in over five years the metric which tracks the average recommended allocation of stocks by sellside strategists slipped 78 basis points in julywe have found that wall streets consensus equity allocation has historically been a reliable contrarian indicator bofa analysts wrote while the sell side indicator does not catch every rally or decline in the stock market the indicator has historically had some predictive capability with respect to subsequent 12month sampp 500 total returnsin the past wall streets consensus equity allocation has been able to signal the opposite of what strategists recommend meaning its been a bearish indicator when analysts were bullish and vice versanow the sell side indicator has hovered in neutral territory through the first half of the year but is now inching closer to buy after recent declinesconfidence in the stock market is the lowest in 5 years as markets price in an 80 chance of a mild recession says bank of america bac the sampp 500 spy is up 13 from its june16th lows the largest bounce of the yearare you currently bullish bearish or neutral   \n",
       "24                                                                                                                                                                                                                                                                                                                                                                                                                                                                                                                                                                                                                                                                                                                                                                                                                                                                                                                                                                                                                                                                                                                                                                                                                                                                                                                                                                                                                                                                                                                                                                                                                                                                                                                                                                                                                                                                                                                                                                                                                                                                                                                                                                                                                                                                                                                                                                                                                                                                                                                                                                                                                                                                                                                                                                                                                                                                                                                                                                                                                                                                                                                                                                                                                                                                                                                                                                                                                                                                                                                                                                                                                                                                                                                                                                                                                                                                                                                                                                                                                                                                                                                                                                                                                                                                                                                                                                                                                                                                                                                                                                                                                                                          ilag to infinity and beyond   \n",
       "27                                                                                                                                                                                                                                                                                                                                                                                                                                                                                                                                                                                                                                                                                                                                                                                                                                                                                                                                                                                                                                                                                                                                                                                                                                                                                                                                                                                                                                                                                                                                                                                                                                                                                                                                                                                                                                                                                                                                                                                                                                                                                                                                                                                                                                                                                                                                                                                                                                                                                                                                                                                                                                                                                                                                                                                                                                                                                                                                                                                                                                                                                                                                                                                                                                                                                                                                                                                                                                                                                                                                                                                                                                                                                                                                                                                                                                                                                                                                                                                                                                                                                                                                                                                                                                                                                                                                                                                                                                                                                                                                                                                                                                      which trading platform is allowing to short hkd   \n",
       "\n",
       "    Actual  Predicted  \n",
       "1        1          0  \n",
       "11       0          1  \n",
       "12       1          0  \n",
       "14       1          0  \n",
       "16       1          0  \n",
       "17       1          0  \n",
       "20       0          1  \n",
       "21       1          0  \n",
       "24       1          0  \n",
       "27       1          0  "
      ]
     },
     "execution_count": 75,
     "metadata": {},
     "output_type": "execute_result"
    }
   ],
   "source": [
    "pd.set_option(\"display.max_colwidth\", 4500)\n",
    "pd.set_option(\"display.max_rows\", 1000)\n",
    "\n",
    "# Find those texts with wrong predictions (0 for stcoks, 1 for wsb)\n",
    "# Display only first 10, to see all, please delete .head(10)\n",
    "\n",
    "text_pred_df[text_pred_df['Actual']!=text_pred_df['Predicted']].head(10)"
   ]
  },
  {
   "cell_type": "markdown",
   "metadata": {},
   "source": [
    "There is still room for improvement for the model as there are posts that are not classified correctly."
   ]
  },
  {
   "cell_type": "markdown",
   "metadata": {},
   "source": [
    "## Model features"
   ]
  },
  {
   "cell_type": "code",
   "execution_count": 76,
   "metadata": {},
   "outputs": [],
   "source": [
    "log_prob_pos = gs_clf.best_estimator_['mnb'].feature_log_prob_[1]\n",
    "log_prob_neg = gs_clf.best_estimator_['mnb'].feature_log_prob_[0]\n",
    "log_prob_difference = log_prob_pos - log_prob_neg\n",
    "\n",
    "features_names = gs_clf.best_estimator_.named_steps['tfidf'].get_feature_names_out()\n",
    "\n",
    "prob_word_list = sorted(zip(features_names, log_prob_difference), \n",
    "                      key = lambda x: abs(x[1]), reverse = True)\n",
    "\n",
    "prob_word_list_df = pd.DataFrame(columns = ['Word', 'Log Probability Difference'], data = prob_word_list).head(50)"
   ]
  },
  {
   "cell_type": "code",
   "execution_count": 77,
   "metadata": {},
   "outputs": [
    {
     "data": {
      "image/png": "[encoded data removed]",
      "text/plain": [
       "<Figure size 1440x720 with 1 Axes>"
      ]
     },
     "metadata": {
      "needs_background": "light"
     },
     "output_type": "display_data"
    }
   ],
   "source": [
    "plt.figure(figsize = (20,10))\n",
    "sns.barplot(\n",
    "    y = 'Word',\n",
    "    x = 'Log Probability Difference',\n",
    "    data = prob_word_list_df\n",
    ")\n",
    "plt.title('Top 50 Words and Log Probability Difference', fontsize = 20)\n",
    "plt.xlabel('Log Probability Difference (Positive indicates likelihood to occur in r/wallstreetbets)', fontsize = 16)\n",
    "plt.savefig(\"top50words.png\", transparent = True)"
   ]
  },
  {
   "cell_type": "markdown",
   "metadata": {},
   "source": [
    "Among the top 50 words, we can see that words with positve probability difference mainly belongs to r/wallstreetbets and vice versa for r/stocks. \n",
    "For r/wallstreetbets, the features centres around meme stock tickers (bbby, amc, gme) or options trading (calls, puts, squeeze)\n",
    "Conversely, for r/stocks, the features are related to long term investing (index, investing, s&p) and company fundamentals (eps, guidance, pe)\n"
   ]
  },
  {
   "cell_type": "markdown",
   "metadata": {},
   "source": [
    "## Recommendation & Conclusion"
   ]
  },
  {
   "cell_type": "code",
   "execution_count": null,
   "metadata": {},
   "outputs": [],
   "source": [
    "#Display the selected model\n",
    "results_df.iloc[7,[0,1,2,4,7,8]]"
   ]
  },
  {
   "cell_type": "markdown",
   "metadata": {},
   "source": [
    "The Naïve Bayes Model with TF-IDF Vectorizer on Unmodified text will be the final model selected for the subreddit classifier as it is the best performing model with its accuracy, precision and AUC score.\n",
    "\n",
    "The following can be explored to further improve the model accuracy and to find the best parameters.\n",
    "- More hyperparameter tuning and classifiers can be explored to further increase the accuracy of the classifier\n",
    "- More weightage can be assigned to Title than self text\n",
    "- As there are high frequency postings in both r/wallstreetbets and r/stocks, we can consider to scrape only popular posts in order to improve the quality of the scrapped data and reduce spam\n",
    "- Explore sentimental analysis to the model to determine the positive and negative sentiments of the posts\n",
    "- Develop a list of popular tickers and stop words to add to the stopwords corpus\n"
   ]
  }
 ],
 "metadata": {
  "kernelspec": {
   "display_name": "Python 3",
   "language": "python",
   "name": "python3"
  },
  "language_info": {
   "codemirror_mode": {
    "name": "ipython",
    "version": 3
   },
   "file_extension": ".py",
   "mimetype": "text/x-python",
   "name": "python",
   "nbconvert_exporter": "python",
   "pygments_lexer": "ipython3",
   "version": "3.8.3"
  },
  "vscode": {
   "interpreter": {
    "hash": "b869e3f5074e50b55c5710c5aff39747c8a91413af228d632af3a46cd0ca6b17"
   }
  }
 },
 "nbformat": 4,
 "nbformat_minor": 2
}
